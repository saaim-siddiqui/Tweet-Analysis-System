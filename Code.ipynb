{
 "cells": [
  {
   "cell_type": "markdown",
   "metadata": {},
   "source": [
    "#### <center> <h1 style=\"color:blue; display: inline-block\">Assignment 2</h1> </center><br>\n",
    "<h2 style=\"color:blue; display: inline-block\">Subject: </h2> \n",
    "<h2 style=\"color:black; display: inline-block\">Introduction to data sciences</h2> <br>\n",
    "<h2 style=\"color:blue; display: inline-block\">Group members:</h2> <br>\n",
    "<h3 style=\"color:blue; display: inline-block\">NAME:</h3> \n",
    "<h3 style=\"color:black; display: inline-block; margin-left: 40px\">AMBER RIAZ</h3> \n",
    "<h3 style=\"color:blue; display: inline-block; margin-left: 35px\">Registration number:</h3> \n",
    "<h3 style=\"color:black; display: inline-block\">FA18-BCS-035</h3> <br>\n",
    "<h3 style=\"color:blue; display: inline-block\">NAME:</h3> \n",
    "<h3 style=\"color:black; display: inline-block; margin-left: 40px\">SAAIM SIDDIQUI</h3> \n",
    "<h3 style=\"color:blue; display: inline-block; margin-left: 5px\">Registration number:</h3> \n",
    "<h3 style=\"color:black; display: inline-block\">FA18-BCS-087</h3> <br>\n"
   ]
  },
  {
   "cell_type": "markdown",
   "metadata": {},
   "source": [
    "# Importing libraries\n"
   ]
  },
  {
   "cell_type": "code",
   "execution_count": 7,
   "metadata": {},
   "outputs": [],
   "source": [
    "import re\n",
    "import numpy as np\n",
    "import pandas as pd\n",
    "from sklearn.preprocessing import LabelEncoder\n",
    "from sklearn import metrics #to calculate accuracy \n",
    "import matplotlib.pyplot as plt \n",
    "import seaborn as sns\n",
    "import string\n",
    "import nltk\n",
    "from nltk import PorterStemmer\n",
    "import pickle \n",
    "pd.set_option(\"display.max_rows\", None, \"display.max_columns\", None)"
   ]
  },
  {
   "cell_type": "markdown",
   "metadata": {},
   "source": [
    "# Loading the data \n"
   ]
  },
  {
   "cell_type": "code",
   "execution_count": 8,
   "metadata": {},
   "outputs": [
    {
     "data": {
      "text/html": [
       "<div>\n",
       "<style scoped>\n",
       "    .dataframe tbody tr th:only-of-type {\n",
       "        vertical-align: middle;\n",
       "    }\n",
       "\n",
       "    .dataframe tbody tr th {\n",
       "        vertical-align: top;\n",
       "    }\n",
       "\n",
       "    .dataframe thead th {\n",
       "        text-align: right;\n",
       "    }\n",
       "</style>\n",
       "<table border=\"1\" class=\"dataframe\">\n",
       "  <thead>\n",
       "    <tr style=\"text-align: right;\">\n",
       "      <th></th>\n",
       "      <th>comment</th>\n",
       "      <th>output</th>\n",
       "    </tr>\n",
       "  </thead>\n",
       "  <tbody>\n",
       "    <tr>\n",
       "      <th>0</th>\n",
       "      <td>time to eat with my best buddy! #lunch</td>\n",
       "      <td>Happy</td>\n",
       "    </tr>\n",
       "    <tr>\n",
       "      <th>1</th>\n",
       "      <td>@user @user if they want reflection money. #ksleg</td>\n",
       "      <td>Happy</td>\n",
       "    </tr>\n",
       "    <tr>\n",
       "      <th>2</th>\n",
       "      <td>---Good job but I’ will expect a lot more in f...</td>\n",
       "      <td>Happy</td>\n",
       "    </tr>\n",
       "    <tr>\n",
       "      <th>3</th>\n",
       "      <td>totally dissatisfied with the service###%%@@ n...</td>\n",
       "      <td>Sad</td>\n",
       "    </tr>\n",
       "    <tr>\n",
       "      <th>4</th>\n",
       "      <td>loved my work!!!!!</td>\n",
       "      <td>Happy</td>\n",
       "    </tr>\n",
       "  </tbody>\n",
       "</table>\n",
       "</div>"
      ],
      "text/plain": [
       "                                             comment output\n",
       "0             time to eat with my best buddy! #lunch  Happy\n",
       "1  @user @user if they want reflection money. #ksleg  Happy\n",
       "2  ---Good job but I’ will expect a lot more in f...  Happy\n",
       "3  totally dissatisfied with the service###%%@@ n...    Sad\n",
       "4                                 loved my work!!!!!  Happy"
      ]
     },
     "execution_count": 8,
     "metadata": {},
     "output_type": "execute_result"
    }
   ],
   "source": [
    "sample_data_t = pd.read_csv(\"train.csv\")\n",
    "# sample_data_t.columns = ['index', 'comment', 'output'] #Giving column headers to the dataset\n",
    "sample_data_t = sample_data_t.dropna(axis = 0, how = 'any')\n",
    "sample_data_t = sample_data_t.drop(columns = ['Index'])\n",
    "sample_data_t.head()"
   ]
  },
  {
   "cell_type": "markdown",
   "metadata": {},
   "source": [
    "# Encoding the output "
   ]
  },
  {
   "cell_type": "code",
   "execution_count": 9,
   "metadata": {},
   "outputs": [
    {
     "data": {
      "text/plain": [
       "LabelEncoder()"
      ]
     },
     "execution_count": 9,
     "metadata": {},
     "output_type": "execute_result"
    }
   ],
   "source": [
    "#initializing the label encoder\n",
    "\n",
    "output = pd.DataFrame({\"output\":[\"Happy\",\"Sad\"]})\n",
    "output_label_encoder = LabelEncoder()\n",
    "\n",
    "#training the label encoder\n",
    "output_label_encoder.fit(np.ravel(output))"
   ]
  },
  {
   "cell_type": "code",
   "execution_count": 10,
   "metadata": {},
   "outputs": [
    {
     "name": "stdout",
     "output_type": "stream",
     "text": [
      "\n",
      "\\output Attribute After Label Encoding:\n",
      "========================================\n",
      "\n",
      "   output  encoded_output\n",
      "0   Happy               0\n",
      "1   Happy               0\n",
      "2   Happy               0\n",
      "3     Sad               1\n",
      "4   Happy               0\n",
      "5     Sad               1\n",
      "6   Happy               0\n",
      "7     Sad               1\n",
      "8   Happy               0\n",
      "9     Sad               1\n",
      "10    Sad               1\n",
      "11  Happy               0\n",
      "12    Sad               1\n",
      "13  Happy               0\n",
      "14  Happy               0\n"
     ]
    },
    {
     "data": {
      "text/html": [
       "<div>\n",
       "<style scoped>\n",
       "    .dataframe tbody tr th:only-of-type {\n",
       "        vertical-align: middle;\n",
       "    }\n",
       "\n",
       "    .dataframe tbody tr th {\n",
       "        vertical-align: top;\n",
       "    }\n",
       "\n",
       "    .dataframe thead th {\n",
       "        text-align: right;\n",
       "    }\n",
       "</style>\n",
       "<table border=\"1\" class=\"dataframe\">\n",
       "  <thead>\n",
       "    <tr style=\"text-align: right;\">\n",
       "      <th></th>\n",
       "      <th>comment</th>\n",
       "      <th>output</th>\n",
       "      <th>encoded_output</th>\n",
       "    </tr>\n",
       "  </thead>\n",
       "  <tbody>\n",
       "    <tr>\n",
       "      <th>0</th>\n",
       "      <td>time to eat with my best buddy! #lunch</td>\n",
       "      <td>Happy</td>\n",
       "      <td>0</td>\n",
       "    </tr>\n",
       "    <tr>\n",
       "      <th>1</th>\n",
       "      <td>@user @user if they want reflection money. #ksleg</td>\n",
       "      <td>Happy</td>\n",
       "      <td>0</td>\n",
       "    </tr>\n",
       "    <tr>\n",
       "      <th>2</th>\n",
       "      <td>---Good job but I’ will expect a lot more in f...</td>\n",
       "      <td>Happy</td>\n",
       "      <td>0</td>\n",
       "    </tr>\n",
       "    <tr>\n",
       "      <th>3</th>\n",
       "      <td>totally dissatisfied with the service###%%@@ n...</td>\n",
       "      <td>Sad</td>\n",
       "      <td>1</td>\n",
       "    </tr>\n",
       "    <tr>\n",
       "      <th>4</th>\n",
       "      <td>loved my work!!!!!</td>\n",
       "      <td>Happy</td>\n",
       "      <td>0</td>\n",
       "    </tr>\n",
       "  </tbody>\n",
       "</table>\n",
       "</div>"
      ],
      "text/plain": [
       "                                             comment output  encoded_output\n",
       "0             time to eat with my best buddy! #lunch  Happy               0\n",
       "1  @user @user if they want reflection money. #ksleg  Happy               0\n",
       "2  ---Good job but I’ will expect a lot more in f...  Happy               0\n",
       "3  totally dissatisfied with the service###%%@@ n...    Sad               1\n",
       "4                                 loved my work!!!!!  Happy               0"
      ]
     },
     "execution_count": 10,
     "metadata": {},
     "output_type": "execute_result"
    }
   ],
   "source": [
    "\n",
    "\n",
    "# Transform Output of into Numerical Representation\n",
    "\n",
    "print(\"\\n\\output Attribute After Label Encoding:\")\n",
    "print(\"========================================\\n\")\n",
    "sample_data_t[\"encoded_output\"] = output_label_encoder.transform(sample_data_t['output'])\n",
    "print(sample_data_t[[\"output\", \"encoded_output\"]])\n",
    "sample_data_t.head()"
   ]
  },
  {
   "cell_type": "code",
   "execution_count": 11,
   "metadata": {},
   "outputs": [
    {
     "data": {
      "text/html": [
       "<div>\n",
       "<style scoped>\n",
       "    .dataframe tbody tr th:only-of-type {\n",
       "        vertical-align: middle;\n",
       "    }\n",
       "\n",
       "    .dataframe tbody tr th {\n",
       "        vertical-align: top;\n",
       "    }\n",
       "\n",
       "    .dataframe thead th {\n",
       "        text-align: right;\n",
       "    }\n",
       "</style>\n",
       "<table border=\"1\" class=\"dataframe\">\n",
       "  <thead>\n",
       "    <tr style=\"text-align: right;\">\n",
       "      <th></th>\n",
       "      <th>comment</th>\n",
       "      <th>output</th>\n",
       "    </tr>\n",
       "  </thead>\n",
       "  <tbody>\n",
       "    <tr>\n",
       "      <th>0</th>\n",
       "      <td>time to eat with my best buddy! #lunch</td>\n",
       "      <td>0</td>\n",
       "    </tr>\n",
       "    <tr>\n",
       "      <th>1</th>\n",
       "      <td>@user @user if they want reflection money. #ksleg</td>\n",
       "      <td>0</td>\n",
       "    </tr>\n",
       "    <tr>\n",
       "      <th>2</th>\n",
       "      <td>---Good job but I’ will expect a lot more in f...</td>\n",
       "      <td>0</td>\n",
       "    </tr>\n",
       "    <tr>\n",
       "      <th>3</th>\n",
       "      <td>totally dissatisfied with the service###%%@@ n...</td>\n",
       "      <td>1</td>\n",
       "    </tr>\n",
       "    <tr>\n",
       "      <th>4</th>\n",
       "      <td>loved my work!!!!!</td>\n",
       "      <td>0</td>\n",
       "    </tr>\n",
       "  </tbody>\n",
       "</table>\n",
       "</div>"
      ],
      "text/plain": [
       "                                             comment  output\n",
       "0             time to eat with my best buddy! #lunch       0\n",
       "1  @user @user if they want reflection money. #ksleg       0\n",
       "2  ---Good job but I’ will expect a lot more in f...       0\n",
       "3  totally dissatisfied with the service###%%@@ n...       1\n",
       "4                                 loved my work!!!!!       0"
      ]
     },
     "execution_count": 11,
     "metadata": {},
     "output_type": "execute_result"
    }
   ],
   "source": [
    "sample_data_t[\"output\"] = sample_data_t[\"encoded_output\"]\n",
    "sample_data_t.drop('encoded_output', inplace= True, axis= 1)\n",
    "sample_data_t.head()"
   ]
  },
  {
   "cell_type": "markdown",
   "metadata": {},
   "source": [
    "# Removing twitter handlers (@user)"
   ]
  },
  {
   "cell_type": "code",
   "execution_count": 12,
   "metadata": {},
   "outputs": [
    {
     "data": {
      "text/html": [
       "<div>\n",
       "<style scoped>\n",
       "    .dataframe tbody tr th:only-of-type {\n",
       "        vertical-align: middle;\n",
       "    }\n",
       "\n",
       "    .dataframe tbody tr th {\n",
       "        vertical-align: top;\n",
       "    }\n",
       "\n",
       "    .dataframe thead th {\n",
       "        text-align: right;\n",
       "    }\n",
       "</style>\n",
       "<table border=\"1\" class=\"dataframe\">\n",
       "  <thead>\n",
       "    <tr style=\"text-align: right;\">\n",
       "      <th></th>\n",
       "      <th>comment</th>\n",
       "      <th>output</th>\n",
       "      <th>Tidy_Tweets</th>\n",
       "    </tr>\n",
       "  </thead>\n",
       "  <tbody>\n",
       "    <tr>\n",
       "      <th>0</th>\n",
       "      <td>time to eat with my best buddy! #lunch</td>\n",
       "      <td>0</td>\n",
       "      <td>time to eat with my best buddy! #lunch</td>\n",
       "    </tr>\n",
       "    <tr>\n",
       "      <th>1</th>\n",
       "      <td>@user @user if they want reflection money. #ksleg</td>\n",
       "      <td>0</td>\n",
       "      <td>if they want reflection money. #ksleg</td>\n",
       "    </tr>\n",
       "    <tr>\n",
       "      <th>2</th>\n",
       "      <td>---Good job but I’ will expect a lot more in f...</td>\n",
       "      <td>0</td>\n",
       "      <td>---Good job but I’ will expect a lot more in f...</td>\n",
       "    </tr>\n",
       "    <tr>\n",
       "      <th>3</th>\n",
       "      <td>totally dissatisfied with the service###%%@@ n...</td>\n",
       "      <td>1</td>\n",
       "      <td>totally dissatisfied with the service###%% nev...</td>\n",
       "    </tr>\n",
       "    <tr>\n",
       "      <th>4</th>\n",
       "      <td>loved my work!!!!!</td>\n",
       "      <td>0</td>\n",
       "      <td>loved my work!!!!!</td>\n",
       "    </tr>\n",
       "    <tr>\n",
       "      <th>5</th>\n",
       "      <td>Worst customer care service......@@$$$angry</td>\n",
       "      <td>1</td>\n",
       "      <td>Worst customer care service......$$$angry</td>\n",
       "    </tr>\n",
       "    <tr>\n",
       "      <th>6</th>\n",
       "      <td>Brilliant effort guys!!!</td>\n",
       "      <td>0</td>\n",
       "      <td>Brilliant effort guys!!!</td>\n",
       "    </tr>\n",
       "    <tr>\n",
       "      <th>7</th>\n",
       "      <td>@user @user you point one finger @user million...</td>\n",
       "      <td>1</td>\n",
       "      <td>you point one finger  millions are pointed r...</td>\n",
       "    </tr>\n",
       "    <tr>\n",
       "      <th>8</th>\n",
       "      <td>words r free, it's how u use that can cost you...</td>\n",
       "      <td>0</td>\n",
       "      <td>words r free, it's how u use that can cost you...</td>\n",
       "    </tr>\n",
       "    <tr>\n",
       "      <th>9</th>\n",
       "      <td>you might be a libtard if... #libtard #sjw #li...</td>\n",
       "      <td>1</td>\n",
       "      <td>you might be a libtard if... #libtard #sjw #li...</td>\n",
       "    </tr>\n",
       "  </tbody>\n",
       "</table>\n",
       "</div>"
      ],
      "text/plain": [
       "                                             comment  output  \\\n",
       "0             time to eat with my best buddy! #lunch       0   \n",
       "1  @user @user if they want reflection money. #ksleg       0   \n",
       "2  ---Good job but I’ will expect a lot more in f...       0   \n",
       "3  totally dissatisfied with the service###%%@@ n...       1   \n",
       "4                                 loved my work!!!!!       0   \n",
       "5        Worst customer care service......@@$$$angry       1   \n",
       "6                           Brilliant effort guys!!!       0   \n",
       "7  @user @user you point one finger @user million...       1   \n",
       "8  words r free, it's how u use that can cost you...       0   \n",
       "9  you might be a libtard if... #libtard #sjw #li...       1   \n",
       "\n",
       "                                         Tidy_Tweets  \n",
       "0             time to eat with my best buddy! #lunch  \n",
       "1              if they want reflection money. #ksleg  \n",
       "2  ---Good job but I’ will expect a lot more in f...  \n",
       "3  totally dissatisfied with the service###%% nev...  \n",
       "4                                 loved my work!!!!!  \n",
       "5          Worst customer care service......$$$angry  \n",
       "6                           Brilliant effort guys!!!  \n",
       "7    you point one finger  millions are pointed r...  \n",
       "8  words r free, it's how u use that can cost you...  \n",
       "9  you might be a libtard if... #libtard #sjw #li...  "
      ]
     },
     "execution_count": 12,
     "metadata": {},
     "output_type": "execute_result"
    }
   ],
   "source": [
    "#handling twitter handles @user \n",
    "\n",
    "def remove_pattern(text,pattern):\n",
    "    \n",
    "    # re.findall() finds the pattern i.e @user and puts it in a list for further task\n",
    "    r = re.findall(pattern,text)\n",
    "    \n",
    "    # re.sub() removes @user from the sentences in the dataset\n",
    "    for i in r:\n",
    "        text = re.sub(i,\"\",text)\n",
    "    \n",
    "    return text\n",
    "\n",
    "\n",
    "sample_data_t['Tidy_Tweets'] = np.vectorize(remove_pattern)(sample_data_t['comment'], \"@[\\w]*\")\n",
    "# sample_data_t['Tidy_Tweets'] = np.vectorize(remove_pattern)(sample_data_t['tweet'], \"@[\\w]*\")\n",
    "\n",
    "sample_data_t.head(10)"
   ]
  },
  {
   "cell_type": "markdown",
   "metadata": {},
   "source": [
    "# Removing punctuations "
   ]
  },
  {
   "cell_type": "code",
   "execution_count": 13,
   "metadata": {},
   "outputs": [
    {
     "data": {
      "text/html": [
       "<div>\n",
       "<style scoped>\n",
       "    .dataframe tbody tr th:only-of-type {\n",
       "        vertical-align: middle;\n",
       "    }\n",
       "\n",
       "    .dataframe tbody tr th {\n",
       "        vertical-align: top;\n",
       "    }\n",
       "\n",
       "    .dataframe thead th {\n",
       "        text-align: right;\n",
       "    }\n",
       "</style>\n",
       "<table border=\"1\" class=\"dataframe\">\n",
       "  <thead>\n",
       "    <tr style=\"text-align: right;\">\n",
       "      <th></th>\n",
       "      <th>comment</th>\n",
       "      <th>output</th>\n",
       "      <th>Tidy_Tweets</th>\n",
       "    </tr>\n",
       "  </thead>\n",
       "  <tbody>\n",
       "    <tr>\n",
       "      <th>0</th>\n",
       "      <td>time to eat with my best buddy! #lunch</td>\n",
       "      <td>0</td>\n",
       "      <td>time to eat with my best buddy  #lunch</td>\n",
       "    </tr>\n",
       "    <tr>\n",
       "      <th>1</th>\n",
       "      <td>@user @user if they want reflection money. #ksleg</td>\n",
       "      <td>0</td>\n",
       "      <td>if they want reflection money  #ksleg</td>\n",
       "    </tr>\n",
       "    <tr>\n",
       "      <th>2</th>\n",
       "      <td>---Good job but I’ will expect a lot more in f...</td>\n",
       "      <td>0</td>\n",
       "      <td>Good job but I  will expect a lot more in f...</td>\n",
       "    </tr>\n",
       "    <tr>\n",
       "      <th>3</th>\n",
       "      <td>totally dissatisfied with the service###%%@@ n...</td>\n",
       "      <td>1</td>\n",
       "      <td>totally dissatisfied with the service###   nev...</td>\n",
       "    </tr>\n",
       "    <tr>\n",
       "      <th>4</th>\n",
       "      <td>loved my work!!!!!</td>\n",
       "      <td>0</td>\n",
       "      <td>loved my work</td>\n",
       "    </tr>\n",
       "    <tr>\n",
       "      <th>5</th>\n",
       "      <td>Worst customer care service......@@$$$angry</td>\n",
       "      <td>1</td>\n",
       "      <td>Worst customer care service         angry</td>\n",
       "    </tr>\n",
       "    <tr>\n",
       "      <th>6</th>\n",
       "      <td>Brilliant effort guys!!!</td>\n",
       "      <td>0</td>\n",
       "      <td>Brilliant effort guys</td>\n",
       "    </tr>\n",
       "    <tr>\n",
       "      <th>7</th>\n",
       "      <td>@user @user you point one finger @user million...</td>\n",
       "      <td>1</td>\n",
       "      <td>you point one finger  millions are pointed r...</td>\n",
       "    </tr>\n",
       "    <tr>\n",
       "      <th>8</th>\n",
       "      <td>words r free, it's how u use that can cost you...</td>\n",
       "      <td>0</td>\n",
       "      <td>words r free  it s how u use that can cost you...</td>\n",
       "    </tr>\n",
       "    <tr>\n",
       "      <th>9</th>\n",
       "      <td>you might be a libtard if... #libtard #sjw #li...</td>\n",
       "      <td>1</td>\n",
       "      <td>you might be a libtard if    #libtard #sjw #li...</td>\n",
       "    </tr>\n",
       "  </tbody>\n",
       "</table>\n",
       "</div>"
      ],
      "text/plain": [
       "                                             comment  output  \\\n",
       "0             time to eat with my best buddy! #lunch       0   \n",
       "1  @user @user if they want reflection money. #ksleg       0   \n",
       "2  ---Good job but I’ will expect a lot more in f...       0   \n",
       "3  totally dissatisfied with the service###%%@@ n...       1   \n",
       "4                                 loved my work!!!!!       0   \n",
       "5        Worst customer care service......@@$$$angry       1   \n",
       "6                           Brilliant effort guys!!!       0   \n",
       "7  @user @user you point one finger @user million...       1   \n",
       "8  words r free, it's how u use that can cost you...       0   \n",
       "9  you might be a libtard if... #libtard #sjw #li...       1   \n",
       "\n",
       "                                         Tidy_Tweets  \n",
       "0             time to eat with my best buddy  #lunch  \n",
       "1              if they want reflection money  #ksleg  \n",
       "2     Good job but I  will expect a lot more in f...  \n",
       "3  totally dissatisfied with the service###   nev...  \n",
       "4                                 loved my work       \n",
       "5          Worst customer care service         angry  \n",
       "6                           Brilliant effort guys     \n",
       "7    you point one finger  millions are pointed r...  \n",
       "8  words r free  it s how u use that can cost you...  \n",
       "9  you might be a libtard if    #libtard #sjw #li...  "
      ]
     },
     "execution_count": 13,
     "metadata": {},
     "output_type": "execute_result"
    }
   ],
   "source": [
    "sample_data_t['Tidy_Tweets'] = sample_data_t['Tidy_Tweets'].str.replace(\"[^a-zA-Z#]\", \" \")\n",
    "\n",
    "sample_data_t.head(10)"
   ]
  },
  {
   "cell_type": "markdown",
   "metadata": {},
   "source": [
    "# Removing short words \n"
   ]
  },
  {
   "cell_type": "code",
   "execution_count": 14,
   "metadata": {},
   "outputs": [
    {
     "data": {
      "text/html": [
       "<div>\n",
       "<style scoped>\n",
       "    .dataframe tbody tr th:only-of-type {\n",
       "        vertical-align: middle;\n",
       "    }\n",
       "\n",
       "    .dataframe tbody tr th {\n",
       "        vertical-align: top;\n",
       "    }\n",
       "\n",
       "    .dataframe thead th {\n",
       "        text-align: right;\n",
       "    }\n",
       "</style>\n",
       "<table border=\"1\" class=\"dataframe\">\n",
       "  <thead>\n",
       "    <tr style=\"text-align: right;\">\n",
       "      <th></th>\n",
       "      <th>comment</th>\n",
       "      <th>output</th>\n",
       "      <th>Tidy_Tweets</th>\n",
       "    </tr>\n",
       "  </thead>\n",
       "  <tbody>\n",
       "    <tr>\n",
       "      <th>0</th>\n",
       "      <td>time to eat with my best buddy! #lunch</td>\n",
       "      <td>0</td>\n",
       "      <td>time with best buddy #lunch</td>\n",
       "    </tr>\n",
       "    <tr>\n",
       "      <th>1</th>\n",
       "      <td>@user @user if they want reflection money. #ksleg</td>\n",
       "      <td>0</td>\n",
       "      <td>they want reflection money #ksleg</td>\n",
       "    </tr>\n",
       "    <tr>\n",
       "      <th>2</th>\n",
       "      <td>---Good job but I’ will expect a lot more in f...</td>\n",
       "      <td>0</td>\n",
       "      <td>Good will expect more future</td>\n",
       "    </tr>\n",
       "    <tr>\n",
       "      <th>3</th>\n",
       "      <td>totally dissatisfied with the service###%%@@ n...</td>\n",
       "      <td>1</td>\n",
       "      <td>totally dissatisfied with service### never use...</td>\n",
       "    </tr>\n",
       "    <tr>\n",
       "      <th>4</th>\n",
       "      <td>loved my work!!!!!</td>\n",
       "      <td>0</td>\n",
       "      <td>loved work</td>\n",
       "    </tr>\n",
       "    <tr>\n",
       "      <th>5</th>\n",
       "      <td>Worst customer care service......@@$$$angry</td>\n",
       "      <td>1</td>\n",
       "      <td>Worst customer care service angry</td>\n",
       "    </tr>\n",
       "    <tr>\n",
       "      <th>6</th>\n",
       "      <td>Brilliant effort guys!!!</td>\n",
       "      <td>0</td>\n",
       "      <td>Brilliant effort guys</td>\n",
       "    </tr>\n",
       "    <tr>\n",
       "      <th>7</th>\n",
       "      <td>@user @user you point one finger @user million...</td>\n",
       "      <td>1</td>\n",
       "      <td>point finger millions pointed right back #jewi...</td>\n",
       "    </tr>\n",
       "    <tr>\n",
       "      <th>8</th>\n",
       "      <td>words r free, it's how u use that can cost you...</td>\n",
       "      <td>0</td>\n",
       "      <td>words free that cost #verbal #abuse #love #adu...</td>\n",
       "    </tr>\n",
       "    <tr>\n",
       "      <th>9</th>\n",
       "      <td>you might be a libtard if... #libtard #sjw #li...</td>\n",
       "      <td>1</td>\n",
       "      <td>might libtard #libtard #sjw #liberal #politics</td>\n",
       "    </tr>\n",
       "  </tbody>\n",
       "</table>\n",
       "</div>"
      ],
      "text/plain": [
       "                                             comment  output  \\\n",
       "0             time to eat with my best buddy! #lunch       0   \n",
       "1  @user @user if they want reflection money. #ksleg       0   \n",
       "2  ---Good job but I’ will expect a lot more in f...       0   \n",
       "3  totally dissatisfied with the service###%%@@ n...       1   \n",
       "4                                 loved my work!!!!!       0   \n",
       "5        Worst customer care service......@@$$$angry       1   \n",
       "6                           Brilliant effort guys!!!       0   \n",
       "7  @user @user you point one finger @user million...       1   \n",
       "8  words r free, it's how u use that can cost you...       0   \n",
       "9  you might be a libtard if... #libtard #sjw #li...       1   \n",
       "\n",
       "                                         Tidy_Tweets  \n",
       "0                        time with best buddy #lunch  \n",
       "1                  they want reflection money #ksleg  \n",
       "2                       Good will expect more future  \n",
       "3  totally dissatisfied with service### never use...  \n",
       "4                                         loved work  \n",
       "5                  Worst customer care service angry  \n",
       "6                              Brilliant effort guys  \n",
       "7  point finger millions pointed right back #jewi...  \n",
       "8  words free that cost #verbal #abuse #love #adu...  \n",
       "9     might libtard #libtard #sjw #liberal #politics  "
      ]
     },
     "execution_count": 14,
     "metadata": {},
     "output_type": "execute_result"
    }
   ],
   "source": [
    "sample_data_t['Tidy_Tweets'] = sample_data_t['Tidy_Tweets'].apply(lambda x: ' '.join([w for w in x.split() if len(w)>3]))\n",
    "\n",
    "sample_data_t.head(10)"
   ]
  },
  {
   "cell_type": "markdown",
   "metadata": {},
   "source": [
    "# Tokenizing tweets "
   ]
  },
  {
   "cell_type": "code",
   "execution_count": 15,
   "metadata": {},
   "outputs": [
    {
     "data": {
      "text/plain": [
       "0                    [time, with, best, buddy, #lunch]\n",
       "1              [they, want, reflection, money, #ksleg]\n",
       "2                   [Good, will, expect, more, future]\n",
       "3    [totally, dissatisfied, with, service, #, #, #...\n",
       "4                                        [loved, work]\n",
       "5              [Worst, customer, care, service, angry]\n",
       "6                            [Brilliant, effort, guys]\n",
       "7    [point, finger, millions, pointed, right, back...\n",
       "8    [words, free, that, cost, #verbal, #abuse, #lo...\n",
       "9    [might, libtard, #libtard, #sjw, #liberal, #po...\n",
       "Name: Tidy_Tweets, dtype: object"
      ]
     },
     "execution_count": 15,
     "metadata": {},
     "output_type": "execute_result"
    }
   ],
   "source": [
    "from nltk.tokenize import TweetTokenizer \n",
    "\n",
    "\n",
    "tokenizer = TweetTokenizer()\n",
    "tokenized_tweet = sample_data_t['Tidy_Tweets'].apply(tokenizer.tokenize)\n",
    "\n",
    "# tokenized_tweet = sample_data_t['Tidy_Tweets'].apply(lambda x: x.split())\n",
    "\n",
    "tokenized_tweet.head(10)"
   ]
  },
  {
   "cell_type": "markdown",
   "metadata": {},
   "source": [
    "# Stemming "
   ]
  },
  {
   "cell_type": "code",
   "execution_count": 16,
   "metadata": {},
   "outputs": [
    {
     "data": {
      "text/plain": [
       "0                    [time, with, best, buddi, #lunch]\n",
       "1                 [they, want, reflect, money, #ksleg]\n",
       "2                    [good, will, expect, more, futur]\n",
       "3    [total, dissatisfi, with, servic, #, #, #, nev...\n",
       "4                                         [love, work]\n",
       "5                 [worst, custom, care, servic, angri]\n",
       "6                             [brilliant, effort, guy]\n",
       "7    [point, finger, million, point, right, back, #...\n",
       "8    [word, free, that, cost, #verbal, #abus, #love...\n",
       "9     [might, libtard, #libtard, #sjw, #liber, #polit]\n",
       "Name: Tidy_Tweets, dtype: object"
      ]
     },
     "execution_count": 16,
     "metadata": {},
     "output_type": "execute_result"
    }
   ],
   "source": [
    "ps = PorterStemmer()\n",
    "\n",
    "tokenized_tweet = tokenized_tweet.apply(lambda x: [ps.stem(i) for i in x])\n",
    "\n",
    "tokenized_tweet.head(10)"
   ]
  },
  {
   "cell_type": "code",
   "execution_count": 17,
   "metadata": {},
   "outputs": [
    {
     "data": {
      "text/html": [
       "<div>\n",
       "<style scoped>\n",
       "    .dataframe tbody tr th:only-of-type {\n",
       "        vertical-align: middle;\n",
       "    }\n",
       "\n",
       "    .dataframe tbody tr th {\n",
       "        vertical-align: top;\n",
       "    }\n",
       "\n",
       "    .dataframe thead th {\n",
       "        text-align: right;\n",
       "    }\n",
       "</style>\n",
       "<table border=\"1\" class=\"dataframe\">\n",
       "  <thead>\n",
       "    <tr style=\"text-align: right;\">\n",
       "      <th></th>\n",
       "      <th>comment</th>\n",
       "      <th>output</th>\n",
       "      <th>Tidy_Tweets</th>\n",
       "    </tr>\n",
       "  </thead>\n",
       "  <tbody>\n",
       "    <tr>\n",
       "      <th>0</th>\n",
       "      <td>time to eat with my best buddy! #lunch</td>\n",
       "      <td>0</td>\n",
       "      <td>time with best buddi #lunch</td>\n",
       "    </tr>\n",
       "    <tr>\n",
       "      <th>1</th>\n",
       "      <td>@user @user if they want reflection money. #ksleg</td>\n",
       "      <td>0</td>\n",
       "      <td>they want reflect money #ksleg</td>\n",
       "    </tr>\n",
       "    <tr>\n",
       "      <th>2</th>\n",
       "      <td>---Good job but I’ will expect a lot more in f...</td>\n",
       "      <td>0</td>\n",
       "      <td>good will expect more futur</td>\n",
       "    </tr>\n",
       "    <tr>\n",
       "      <th>3</th>\n",
       "      <td>totally dissatisfied with the service###%%@@ n...</td>\n",
       "      <td>1</td>\n",
       "      <td>total dissatisfi with servic # # # never use t...</td>\n",
       "    </tr>\n",
       "    <tr>\n",
       "      <th>4</th>\n",
       "      <td>loved my work!!!!!</td>\n",
       "      <td>0</td>\n",
       "      <td>love work</td>\n",
       "    </tr>\n",
       "    <tr>\n",
       "      <th>5</th>\n",
       "      <td>Worst customer care service......@@$$$angry</td>\n",
       "      <td>1</td>\n",
       "      <td>worst custom care servic angri</td>\n",
       "    </tr>\n",
       "    <tr>\n",
       "      <th>6</th>\n",
       "      <td>Brilliant effort guys!!!</td>\n",
       "      <td>0</td>\n",
       "      <td>brilliant effort guy</td>\n",
       "    </tr>\n",
       "    <tr>\n",
       "      <th>7</th>\n",
       "      <td>@user @user you point one finger @user million...</td>\n",
       "      <td>1</td>\n",
       "      <td>point finger million point right back #jewishs...</td>\n",
       "    </tr>\n",
       "    <tr>\n",
       "      <th>8</th>\n",
       "      <td>words r free, it's how u use that can cost you...</td>\n",
       "      <td>0</td>\n",
       "      <td>word free that cost #verbal #abus #love #adult...</td>\n",
       "    </tr>\n",
       "    <tr>\n",
       "      <th>9</th>\n",
       "      <td>you might be a libtard if... #libtard #sjw #li...</td>\n",
       "      <td>1</td>\n",
       "      <td>might libtard #libtard #sjw #liber #polit</td>\n",
       "    </tr>\n",
       "    <tr>\n",
       "      <th>10</th>\n",
       "      <td>\"@user the pic says otherwise for young girls ...</td>\n",
       "      <td>1</td>\n",
       "      <td>say otherwis young girl confin that kitchen vo...</td>\n",
       "    </tr>\n",
       "    <tr>\n",
       "      <th>11</th>\n",
       "      <td>#good night! ?? #faith ever #vaitacacommafiasdv</td>\n",
       "      <td>0</td>\n",
       "      <td>#good night #faith ever #vaitacacommafiasdv</td>\n",
       "    </tr>\n",
       "    <tr>\n",
       "      <th>12</th>\n",
       "      <td>@user when you're blocked by a troll because y...</td>\n",
       "      <td>1</td>\n",
       "      <td>when block troll becaus promis #blacklivesmatt...</td>\n",
       "    </tr>\n",
       "    <tr>\n",
       "      <th>13</th>\n",
       "      <td>dinner with sister!!</td>\n",
       "      <td>0</td>\n",
       "      <td>dinner with sister</td>\n",
       "    </tr>\n",
       "    <tr>\n",
       "      <th>14</th>\n",
       "      <td>who else is planning on watching @user tomorrow?</td>\n",
       "      <td>0</td>\n",
       "      <td>els plan watch tomorrow</td>\n",
       "    </tr>\n",
       "  </tbody>\n",
       "</table>\n",
       "</div>"
      ],
      "text/plain": [
       "                                              comment  output  \\\n",
       "0              time to eat with my best buddy! #lunch       0   \n",
       "1   @user @user if they want reflection money. #ksleg       0   \n",
       "2   ---Good job but I’ will expect a lot more in f...       0   \n",
       "3   totally dissatisfied with the service###%%@@ n...       1   \n",
       "4                                  loved my work!!!!!       0   \n",
       "5         Worst customer care service......@@$$$angry       1   \n",
       "6                            Brilliant effort guys!!!       0   \n",
       "7   @user @user you point one finger @user million...       1   \n",
       "8   words r free, it's how u use that can cost you...       0   \n",
       "9   you might be a libtard if... #libtard #sjw #li...       1   \n",
       "10  \"@user the pic says otherwise for young girls ...       1   \n",
       "11    #good night! ?? #faith ever #vaitacacommafiasdv       0   \n",
       "12  @user when you're blocked by a troll because y...       1   \n",
       "13                               dinner with sister!!       0   \n",
       "14   who else is planning on watching @user tomorrow?       0   \n",
       "\n",
       "                                          Tidy_Tweets  \n",
       "0                         time with best buddi #lunch  \n",
       "1                      they want reflect money #ksleg  \n",
       "2                         good will expect more futur  \n",
       "3   total dissatisfi with servic # # # never use t...  \n",
       "4                                           love work  \n",
       "5                      worst custom care servic angri  \n",
       "6                                brilliant effort guy  \n",
       "7   point finger million point right back #jewishs...  \n",
       "8   word free that cost #verbal #abus #love #adult...  \n",
       "9           might libtard #libtard #sjw #liber #polit  \n",
       "10  say otherwis young girl confin that kitchen vo...  \n",
       "11        #good night #faith ever #vaitacacommafiasdv  \n",
       "12  when block troll becaus promis #blacklivesmatt...  \n",
       "13                                 dinner with sister  \n",
       "14                            els plan watch tomorrow  "
      ]
     },
     "execution_count": 17,
     "metadata": {},
     "output_type": "execute_result"
    }
   ],
   "source": [
    "for i in range(len(tokenized_tweet)):\n",
    "    tokenized_tweet[i] = ' '.join(tokenized_tweet[i])\n",
    "\n",
    "sample_data_t['Tidy_Tweets'] = tokenized_tweet\n",
    "sample_data_t.head(50)"
   ]
  },
  {
   "cell_type": "markdown",
   "metadata": {},
   "source": [
    "# Extracting features "
   ]
  },
  {
   "cell_type": "code",
   "execution_count": 18,
   "metadata": {},
   "outputs": [
    {
     "data": {
      "text/html": [
       "<div>\n",
       "<style scoped>\n",
       "    .dataframe tbody tr th:only-of-type {\n",
       "        vertical-align: middle;\n",
       "    }\n",
       "\n",
       "    .dataframe tbody tr th {\n",
       "        vertical-align: top;\n",
       "    }\n",
       "\n",
       "    .dataframe thead th {\n",
       "        text-align: right;\n",
       "    }\n",
       "</style>\n",
       "<table border=\"1\" class=\"dataframe\">\n",
       "  <thead>\n",
       "    <tr style=\"text-align: right;\">\n",
       "      <th></th>\n",
       "      <th>0</th>\n",
       "      <th>1</th>\n",
       "    </tr>\n",
       "  </thead>\n",
       "  <tbody>\n",
       "    <tr>\n",
       "      <th>0</th>\n",
       "      <td>0</td>\n",
       "      <td>0</td>\n",
       "    </tr>\n",
       "    <tr>\n",
       "      <th>1</th>\n",
       "      <td>0</td>\n",
       "      <td>0</td>\n",
       "    </tr>\n",
       "    <tr>\n",
       "      <th>2</th>\n",
       "      <td>1</td>\n",
       "      <td>0</td>\n",
       "    </tr>\n",
       "    <tr>\n",
       "      <th>3</th>\n",
       "      <td>0</td>\n",
       "      <td>2</td>\n",
       "    </tr>\n",
       "    <tr>\n",
       "      <th>4</th>\n",
       "      <td>0</td>\n",
       "      <td>0</td>\n",
       "    </tr>\n",
       "    <tr>\n",
       "      <th>5</th>\n",
       "      <td>0</td>\n",
       "      <td>1</td>\n",
       "    </tr>\n",
       "    <tr>\n",
       "      <th>6</th>\n",
       "      <td>0</td>\n",
       "      <td>0</td>\n",
       "    </tr>\n",
       "    <tr>\n",
       "      <th>7</th>\n",
       "      <td>0</td>\n",
       "      <td>0</td>\n",
       "    </tr>\n",
       "    <tr>\n",
       "      <th>8</th>\n",
       "      <td>0</td>\n",
       "      <td>0</td>\n",
       "    </tr>\n",
       "    <tr>\n",
       "      <th>9</th>\n",
       "      <td>0</td>\n",
       "      <td>0</td>\n",
       "    </tr>\n",
       "  </tbody>\n",
       "</table>\n",
       "</div>"
      ],
      "text/plain": [
       "   0  1\n",
       "0  0  0\n",
       "1  0  0\n",
       "2  1  0\n",
       "3  0  2\n",
       "4  0  0\n",
       "5  0  1\n",
       "6  0  0\n",
       "7  0  0\n",
       "8  0  0\n",
       "9  0  0"
      ]
     },
     "execution_count": 18,
     "metadata": {},
     "output_type": "execute_result"
    }
   ],
   "source": [
    "from sklearn.feature_extraction.text import CountVectorizer\n",
    "\n",
    "bow_vectorizer = CountVectorizer(max_df=0.90, min_df=2, max_features=2, stop_words='english')\n",
    "\n",
    "# bag-of-words feature matrix\n",
    "bow = bow_vectorizer.fit_transform(sample_data_t['Tidy_Tweets'])\n",
    "\n",
    "df_bow = pd.DataFrame(bow.todense())\n",
    "\n",
    "df_bow.head(10)"
   ]
  },
  {
   "cell_type": "code",
   "execution_count": 19,
   "metadata": {},
   "outputs": [
    {
     "data": {
      "text/html": [
       "<div>\n",
       "<style scoped>\n",
       "    .dataframe tbody tr th:only-of-type {\n",
       "        vertical-align: middle;\n",
       "    }\n",
       "\n",
       "    .dataframe tbody tr th {\n",
       "        vertical-align: top;\n",
       "    }\n",
       "\n",
       "    .dataframe thead th {\n",
       "        text-align: right;\n",
       "    }\n",
       "</style>\n",
       "<table border=\"1\" class=\"dataframe\">\n",
       "  <thead>\n",
       "    <tr style=\"text-align: right;\">\n",
       "      <th></th>\n",
       "      <th>0</th>\n",
       "      <th>1</th>\n",
       "      <th>2</th>\n",
       "    </tr>\n",
       "  </thead>\n",
       "  <tbody>\n",
       "    <tr>\n",
       "      <th>0</th>\n",
       "      <td>0.0</td>\n",
       "      <td>0.0</td>\n",
       "      <td>0.0</td>\n",
       "    </tr>\n",
       "    <tr>\n",
       "      <th>1</th>\n",
       "      <td>0.0</td>\n",
       "      <td>0.0</td>\n",
       "      <td>0.0</td>\n",
       "    </tr>\n",
       "    <tr>\n",
       "      <th>2</th>\n",
       "      <td>1.0</td>\n",
       "      <td>0.0</td>\n",
       "      <td>0.0</td>\n",
       "    </tr>\n",
       "    <tr>\n",
       "      <th>3</th>\n",
       "      <td>0.0</td>\n",
       "      <td>0.0</td>\n",
       "      <td>1.0</td>\n",
       "    </tr>\n",
       "    <tr>\n",
       "      <th>4</th>\n",
       "      <td>0.0</td>\n",
       "      <td>1.0</td>\n",
       "      <td>0.0</td>\n",
       "    </tr>\n",
       "    <tr>\n",
       "      <th>5</th>\n",
       "      <td>0.0</td>\n",
       "      <td>0.0</td>\n",
       "      <td>1.0</td>\n",
       "    </tr>\n",
       "    <tr>\n",
       "      <th>6</th>\n",
       "      <td>0.0</td>\n",
       "      <td>0.0</td>\n",
       "      <td>0.0</td>\n",
       "    </tr>\n",
       "    <tr>\n",
       "      <th>7</th>\n",
       "      <td>0.0</td>\n",
       "      <td>0.0</td>\n",
       "      <td>0.0</td>\n",
       "    </tr>\n",
       "    <tr>\n",
       "      <th>8</th>\n",
       "      <td>0.0</td>\n",
       "      <td>1.0</td>\n",
       "      <td>0.0</td>\n",
       "    </tr>\n",
       "    <tr>\n",
       "      <th>9</th>\n",
       "      <td>0.0</td>\n",
       "      <td>0.0</td>\n",
       "      <td>0.0</td>\n",
       "    </tr>\n",
       "    <tr>\n",
       "      <th>10</th>\n",
       "      <td>0.0</td>\n",
       "      <td>0.0</td>\n",
       "      <td>0.0</td>\n",
       "    </tr>\n",
       "    <tr>\n",
       "      <th>11</th>\n",
       "      <td>1.0</td>\n",
       "      <td>0.0</td>\n",
       "      <td>0.0</td>\n",
       "    </tr>\n",
       "    <tr>\n",
       "      <th>12</th>\n",
       "      <td>0.0</td>\n",
       "      <td>0.0</td>\n",
       "      <td>0.0</td>\n",
       "    </tr>\n",
       "    <tr>\n",
       "      <th>13</th>\n",
       "      <td>0.0</td>\n",
       "      <td>0.0</td>\n",
       "      <td>0.0</td>\n",
       "    </tr>\n",
       "    <tr>\n",
       "      <th>14</th>\n",
       "      <td>0.0</td>\n",
       "      <td>0.0</td>\n",
       "      <td>0.0</td>\n",
       "    </tr>\n",
       "  </tbody>\n",
       "</table>\n",
       "</div>"
      ],
      "text/plain": [
       "      0    1    2\n",
       "0   0.0  0.0  0.0\n",
       "1   0.0  0.0  0.0\n",
       "2   1.0  0.0  0.0\n",
       "3   0.0  0.0  1.0\n",
       "4   0.0  1.0  0.0\n",
       "5   0.0  0.0  1.0\n",
       "6   0.0  0.0  0.0\n",
       "7   0.0  0.0  0.0\n",
       "8   0.0  1.0  0.0\n",
       "9   0.0  0.0  0.0\n",
       "10  0.0  0.0  0.0\n",
       "11  1.0  0.0  0.0\n",
       "12  0.0  0.0  0.0\n",
       "13  0.0  0.0  0.0\n",
       "14  0.0  0.0  0.0"
      ]
     },
     "execution_count": 19,
     "metadata": {},
     "output_type": "execute_result"
    }
   ],
   "source": [
    "from sklearn.feature_extraction.text import TfidfVectorizer\n",
    "\n",
    "tfidf=TfidfVectorizer(max_df=0.90, min_df=2,max_features=3, stop_words='english')\n",
    "\n",
    "tfidf_matrix=tfidf.fit_transform(sample_data_t['Tidy_Tweets'])\n",
    "\n",
    "df_tfidf = pd.DataFrame(tfidf_matrix.todense())\n",
    "\n",
    "df_tfidf"
   ]
  },
  {
   "cell_type": "code",
   "execution_count": 20,
   "metadata": {},
   "outputs": [
    {
     "data": {
      "text/plain": [
       "matrix([[0, 0],\n",
       "        [0, 0],\n",
       "        [1, 0],\n",
       "        [0, 2],\n",
       "        [0, 0],\n",
       "        [0, 1],\n",
       "        [0, 0],\n",
       "        [0, 0],\n",
       "        [0, 0],\n",
       "        [0, 0],\n",
       "        [0, 0],\n",
       "        [1, 0],\n",
       "        [0, 0],\n",
       "        [0, 0],\n",
       "        [0, 0]])"
      ]
     },
     "execution_count": 20,
     "metadata": {},
     "output_type": "execute_result"
    }
   ],
   "source": [
    "train_bow = bow\n",
    "train_bow.todense()"
   ]
  },
  {
   "cell_type": "code",
   "execution_count": 21,
   "metadata": {},
   "outputs": [
    {
     "data": {
      "text/plain": [
       "matrix([[0., 0., 0.],\n",
       "        [0., 0., 0.],\n",
       "        [1., 0., 0.],\n",
       "        [0., 0., 1.],\n",
       "        [0., 1., 0.],\n",
       "        [0., 0., 1.],\n",
       "        [0., 0., 0.],\n",
       "        [0., 0., 0.],\n",
       "        [0., 1., 0.],\n",
       "        [0., 0., 0.],\n",
       "        [0., 0., 0.],\n",
       "        [1., 0., 0.],\n",
       "        [0., 0., 0.],\n",
       "        [0., 0., 0.],\n",
       "        [0., 0., 0.]])"
      ]
     },
     "execution_count": 21,
     "metadata": {},
     "output_type": "execute_result"
    }
   ],
   "source": [
    "train_tfidf_matrix = tfidf_matrix\n",
    "train_tfidf_matrix.todense()"
   ]
  },
  {
   "cell_type": "markdown",
   "metadata": {},
   "source": [
    "# Splitting dataset into train-test"
   ]
  },
  {
   "cell_type": "code",
   "execution_count": 22,
   "metadata": {},
   "outputs": [
    {
     "data": {
      "text/html": [
       "<div>\n",
       "<style scoped>\n",
       "    .dataframe tbody tr th:only-of-type {\n",
       "        vertical-align: middle;\n",
       "    }\n",
       "\n",
       "    .dataframe tbody tr th {\n",
       "        vertical-align: top;\n",
       "    }\n",
       "\n",
       "    .dataframe thead th {\n",
       "        text-align: right;\n",
       "    }\n",
       "</style>\n",
       "<table border=\"1\" class=\"dataframe\">\n",
       "  <thead>\n",
       "    <tr style=\"text-align: right;\">\n",
       "      <th></th>\n",
       "      <th>comment</th>\n",
       "      <th>output</th>\n",
       "      <th>Tidy_Tweets</th>\n",
       "    </tr>\n",
       "  </thead>\n",
       "  <tbody>\n",
       "    <tr>\n",
       "      <th>0</th>\n",
       "      <td>time to eat with my best buddy! #lunch</td>\n",
       "      <td>0</td>\n",
       "      <td>time with best buddi #lunch</td>\n",
       "    </tr>\n",
       "    <tr>\n",
       "      <th>1</th>\n",
       "      <td>@user @user if they want reflection money. #ksleg</td>\n",
       "      <td>0</td>\n",
       "      <td>they want reflect money #ksleg</td>\n",
       "    </tr>\n",
       "    <tr>\n",
       "      <th>2</th>\n",
       "      <td>---Good job but I’ will expect a lot more in f...</td>\n",
       "      <td>0</td>\n",
       "      <td>good will expect more futur</td>\n",
       "    </tr>\n",
       "    <tr>\n",
       "      <th>3</th>\n",
       "      <td>totally dissatisfied with the service###%%@@ n...</td>\n",
       "      <td>1</td>\n",
       "      <td>total dissatisfi with servic # # # never use t...</td>\n",
       "    </tr>\n",
       "    <tr>\n",
       "      <th>4</th>\n",
       "      <td>loved my work!!!!!</td>\n",
       "      <td>0</td>\n",
       "      <td>love work</td>\n",
       "    </tr>\n",
       "  </tbody>\n",
       "</table>\n",
       "</div>"
      ],
      "text/plain": [
       "                                             comment  output  \\\n",
       "0             time to eat with my best buddy! #lunch       0   \n",
       "1  @user @user if they want reflection money. #ksleg       0   \n",
       "2  ---Good job but I’ will expect a lot more in f...       0   \n",
       "3  totally dissatisfied with the service###%%@@ n...       1   \n",
       "4                                 loved my work!!!!!       0   \n",
       "\n",
       "                                         Tidy_Tweets  \n",
       "0                        time with best buddi #lunch  \n",
       "1                     they want reflect money #ksleg  \n",
       "2                        good will expect more futur  \n",
       "3  total dissatisfi with servic # # # never use t...  \n",
       "4                                          love work  "
      ]
     },
     "execution_count": 22,
     "metadata": {},
     "output_type": "execute_result"
    }
   ],
   "source": [
    "from sklearn.model_selection import train_test_split\n",
    "\n",
    "sample_data_t.head()"
   ]
  },
  {
   "cell_type": "markdown",
   "metadata": {},
   "source": [
    "# Feature extraction by bow "
   ]
  },
  {
   "cell_type": "code",
   "execution_count": 24,
   "metadata": {},
   "outputs": [],
   "source": [
    "x_train_bow, x_test_bow, y_train_bow, y_test_bow = train_test_split(train_bow,sample_data_t['output'],test_size=0.3,random_state=2)"
   ]
  },
  {
   "cell_type": "markdown",
   "metadata": {},
   "source": [
    "# Feature extraction by Tf-IDF"
   ]
  },
  {
   "cell_type": "code",
   "execution_count": 25,
   "metadata": {},
   "outputs": [],
   "source": [
    "x_train_tfidf, x_valid_tfidf, y_train_tfidf, y_valid_tfidf = train_test_split(train_tfidf_matrix,sample_data_t['output'],test_size=0.3,random_state=17)"
   ]
  },
  {
   "cell_type": "markdown",
   "metadata": {},
   "source": [
    "# Training Random Forest by Bag-of-words approach"
   ]
  },
  {
   "cell_type": "code",
   "execution_count": 26,
   "metadata": {},
   "outputs": [],
   "source": [
    "from sklearn.ensemble import RandomForestClassifier\n",
    "RF_model = RandomForestClassifier(n_estimators=10, max_features=\"sqrt\", max_depth = None)\n",
    "RF_model = RF_model.fit(x_train_bow,y_train_bow)"
   ]
  },
  {
   "cell_type": "markdown",
   "metadata": {},
   "source": [
    "# Calculating predictions\n"
   ]
  },
  {
   "cell_type": "code",
   "execution_count": 29,
   "metadata": {},
   "outputs": [
    {
     "name": "stdout",
     "output_type": "stream",
     "text": [
      "+----------+-------------------+\n",
      "| *Labels* | *predicted value* |\n",
      "+----------+-------------------+\n",
      "|    0     |         0         |\n",
      "|    0     |         0         |\n",
      "|    1     |         0         |\n",
      "|    0     |         0         |\n",
      "|    1     |         0         |\n",
      "+----------+-------------------+\n",
      "Accuracy: 0.6\n"
     ]
    }
   ],
   "source": [
    "from prettytable import PrettyTable\n",
    "table = PrettyTable()\n",
    "y_pred=RF_model.predict(x_test_bow)\n",
    "table.field_names = [\"*Labels*\", \"*predicted value*\"] \n",
    "i = 0\n",
    "while i < len(y_pred):\n",
    "    table.add_row([y_test_bow.iloc[i],y_pred[i]])\n",
    "    i = i+1\n",
    "print(table)\n",
    "print(\"Accuracy:\",metrics.accuracy_score(y_test_bow, y_pred))"
   ]
  },
  {
   "cell_type": "markdown",
   "metadata": {},
   "source": [
    "## Save the Trained Model"
   ]
  },
  {
   "cell_type": "code",
   "execution_count": 30,
   "metadata": {},
   "outputs": [],
   "source": [
    "# Save the Model in a Pkl File\n",
    "\n",
    "pickle.dump(RF_model, open('Assignment 2 IDS/RF_trained_model.pkl', 'wb'))"
   ]
  },
  {
   "cell_type": "markdown",
   "metadata": {},
   "source": [
    "# Training decision tree classifiers "
   ]
  },
  {
   "cell_type": "code",
   "execution_count": 31,
   "metadata": {},
   "outputs": [],
   "source": [
    "from sklearn import tree \n",
    "DT_model = tree.DecisionTreeClassifier()\n",
    "DT_model = DT_model.fit(x_train_bow,y_train_bow)"
   ]
  },
  {
   "cell_type": "code",
   "execution_count": 33,
   "metadata": {},
   "outputs": [
    {
     "name": "stdout",
     "output_type": "stream",
     "text": [
      "+----------+-------------------+\n",
      "| *Labels* | *predicted value* |\n",
      "+----------+-------------------+\n",
      "|    0     |         0         |\n",
      "|    0     |         0         |\n",
      "|    1     |         0         |\n",
      "|    0     |         0         |\n",
      "|    1     |         0         |\n",
      "|    0     |         0         |\n",
      "|    0     |         0         |\n",
      "|    0     |         0         |\n",
      "|    1     |         0         |\n",
      "|    0     |         0         |\n",
      "|    1     |         0         |\n",
      "+----------+-------------------+\n",
      "Accuracy: 0.6\n"
     ]
    }
   ],
   "source": [
    "y_pred=DT_model.predict(x_test_bow)\n",
    "table.field_names = [\"*Labels*\", \"*predicted value*\"] \n",
    "i = 0\n",
    "while i < len(y_pred):\n",
    "    table.add_row([y_test_bow.iloc[i],y_pred[i]])\n",
    "    i = i + 1\n",
    "print(table)\n",
    "print(\"Accuracy:\",metrics.accuracy_score(y_test_bow, y_pred))"
   ]
  },
  {
   "cell_type": "markdown",
   "metadata": {},
   "source": [
    "## Save the Trained Model"
   ]
  },
  {
   "cell_type": "code",
   "execution_count": 34,
   "metadata": {},
   "outputs": [],
   "source": [
    "# Save the Model in a Pkl File\n",
    "\n",
    "pickle.dump(DT_model, open('Assignment 2 IDS/DT_trained_model.pkl', 'wb'))"
   ]
  },
  {
   "cell_type": "markdown",
   "metadata": {},
   "source": [
    "## Load the Saved Model"
   ]
  },
  {
   "cell_type": "code",
   "execution_count": 35,
   "metadata": {},
   "outputs": [],
   "source": [
    "# Load the Saved Model\n",
    "\n",
    "model = pickle.load(open('Assignment 2 IDS/RF_trained_model.pkl', 'rb'))"
   ]
  },
  {
   "cell_type": "code",
   "execution_count": 36,
   "metadata": {},
   "outputs": [
    {
     "name": "stdout",
     "output_type": "stream",
     "text": [
      "\n",
      "Please enter your tweet here : This is a happy tweet\n"
     ]
    }
   ],
   "source": [
    "tweet = input(\"\\nPlease enter your tweet here : \")"
   ]
  },
  {
   "cell_type": "code",
   "execution_count": 37,
   "metadata": {},
   "outputs": [
    {
     "name": "stdout",
     "output_type": "stream",
     "text": [
      "happy\n"
     ]
    }
   ],
   "source": [
    "user_input = pd.DataFrame({\"user_input\":[tweet]})\n",
    "user_input['tidy_tweet'] = np.vectorize(remove_pattern)(user_input['user_input'], \"@[\\w]*\")\n",
    "user_input['tidy_tweet'] = user_input['tidy_tweet'].str.replace(\"[^a-zA-Z#]\", \" \")\n",
    "user_input['tidy_tweet'] = user_input['tidy_tweet'].apply(lambda x: ' '.join([w for w in x.split() if len(w)>3]))\n",
    "\n",
    "\n",
    "tokenizer = TweetTokenizer()\n",
    "tokenized_tweet = user_input['tidy_tweet'].apply(tokenizer.tokenize)\n",
    "\n",
    "ps = PorterStemmer()\n",
    "\n",
    "tokenized_tweet = tokenized_tweet.apply(lambda x: [ps.stem(i) for i in x])\n",
    "\n",
    "for i in range(len(tokenized_tweet)):\n",
    "    tokenized_tweet[i] = ' '.join(tokenized_tweet[i])\n",
    "\n",
    "user_input['tidy_tweet'] = tokenized_tweet\n",
    "\n",
    "bow_vectorizer = CountVectorizer(max_df=2, min_df=0.20, max_features=2, stop_words='english')\n",
    "\n",
    "# bag-of-words feature matrix\n",
    "bow = bow_vectorizer.fit_transform(user_input['tidy_tweet'])\n",
    "\n",
    "df_bow = pd.DataFrame(bow.todense())\n",
    "\n",
    "df_bow\n",
    "\n",
    "train_bow = bow\n",
    "train_bow.todense()\n",
    "\n",
    "pred= model.predict(train_bow)\n",
    "\n",
    "\n",
    "if(pred == 0):\n",
    "    print(\"happy\")\n",
    "else:\n",
    "    print(\"sad\")"
   ]
  },
  {
   "cell_type": "code",
   "execution_count": null,
   "metadata": {},
   "outputs": [],
   "source": []
  },
  {
   "cell_type": "code",
   "execution_count": null,
   "metadata": {},
   "outputs": [],
   "source": []
  }
 ],
 "metadata": {
  "kernelspec": {
   "display_name": "Python 3",
   "language": "python",
   "name": "python3"
  },
  "language_info": {
   "codemirror_mode": {
    "name": "ipython",
    "version": 3
   },
   "file_extension": ".py",
   "mimetype": "text/x-python",
   "name": "python",
   "nbconvert_exporter": "python",
   "pygments_lexer": "ipython3",
   "version": "3.8.5"
  },
  "toc": {
   "base_numbering": 1,
   "nav_menu": {},
   "number_sections": false,
   "sideBar": false,
   "skip_h1_title": false,
   "title_cell": "Table of Contents",
   "title_sidebar": "Contents",
   "toc_cell": false,
   "toc_position": {},
   "toc_section_display": false,
   "toc_window_display": false
  }
 },
 "nbformat": 4,
 "nbformat_minor": 4
}
